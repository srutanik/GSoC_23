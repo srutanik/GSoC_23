{
 "cells": [
  {
   "cell_type": "code",
   "execution_count": 2,
   "id": "8b710768",
   "metadata": {},
   "outputs": [],
   "source": [
    "from plot_3D_model import visualize_vti_output"
   ]
  },
  {
   "cell_type": "code",
   "execution_count": null,
   "id": "ea119e60",
   "metadata": {},
   "outputs": [],
   "source": [
    "visualize_vti_output('simplesand2.vti','xy')"
   ]
  },
  {
   "cell_type": "code",
   "execution_count": null,
   "id": "0f9060ba",
   "metadata": {},
   "outputs": [],
   "source": []
  }
 ],
 "metadata": {
  "kernelspec": {
   "display_name": "Python 3 (ipykernel)",
   "language": "python",
   "name": "python3"
  },
  "language_info": {
   "codemirror_mode": {
    "name": "ipython",
    "version": 3
   },
   "file_extension": ".py",
   "mimetype": "text/x-python",
   "name": "python",
   "nbconvert_exporter": "python",
   "pygments_lexer": "ipython3",
   "version": "3.11.4"
  }
 },
 "nbformat": 4,
 "nbformat_minor": 5
}
